{
  "nbformat": 4,
  "nbformat_minor": 0,
  "metadata": {
    "colab": {
      "provenance": [],
      "toc_visible": true,
      "mount_file_id": "19INpwxBRM4j8bI4PsxPDDev2MzwXiIA5",
      "authorship_tag": "ABX9TyNVks0DygGzLCFZAWN9++nI",
      "include_colab_link": true
    },
    "kernelspec": {
      "name": "python3",
      "display_name": "Python 3"
    },
    "language_info": {
      "name": "python"
    }
  },
  "cells": [
    {
      "cell_type": "markdown",
      "metadata": {
        "id": "view-in-github",
        "colab_type": "text"
      },
      "source": [
        "<a href=\"https://colab.research.google.com/github/gitmystuff/DTSC5502/blob/main/Module_14/Module_14_Activity.ipynb\" target=\"_parent\"><img src=\"https://colab.research.google.com/assets/colab-badge.svg\" alt=\"Open In Colab\"/></a>"
      ]
    },
    {
      "cell_type": "markdown",
      "source": [
        "# Module 14 Activity Complete\n",
        "\n",
        "by Your Name\n",
        "\n",
        "## Getting Started\n",
        "\n",
        "* Colab - get notebook from gitmystuff DTSC5502 repository\n",
        "* Save a Copy in Drive\n",
        "* Remove Copy of\n",
        "* Submit shared link in Canvas\n",
        "\n",
        "## Overview\n",
        "\n",
        "* Time Series with Pandas\n",
        "* Rolling Mean\n",
        "* Time Series with Statsmodels\n",
        "* ETS\n",
        "* Stationary Time Series\n",
        "* EWMA\n",
        "* Holt-Winters\n",
        "* ACF\n",
        "* PACF\n",
        "* ARIMA\n",
        "* SARIMA\n",
        "* Finance Terms"
      ],
      "metadata": {
        "id": "MBdYRP7vYN2K"
      }
    },
    {
      "cell_type": "markdown",
      "source": [
        "## Time Series with Pandas\n",
        "\n",
        "* DateTIme Index\n",
        "* Time Resampling\n",
        "* Time Shifting\n",
        "* Rolling and Expanding\n",
        "\n",
        "Sources\n",
        "\n",
        "* https://hackernoon.com/10-best-datasets-for-time-series-analysis\n",
        "* https://www.zippia.com/zoom-video-communications-careers-1405337/history/\n",
        "* https://www.cdc.gov/museum/timeline/covid19.html\n",
        "* https://fred.stlouisfed.org/series/UMTMVS\n",
        "* https://towardsdatascience.com/predicting-number-of-covid19-deaths-using-time-series-analysis-arima-model-4ad92c48b3ae\n",
        "* https://ourworldindata.org/covid-deaths\n",
        "* https://pandas.pydata.org/docs/user_guide/timeseries.html\n",
        "* https://pandas.pydata.org/docs/getting_started/intro_tutorials/09_timeseries.html\n",
        "* Python for Time Series Data Analysis by Jose Portilla"
      ],
      "metadata": {
        "id": "eaHyE44yZOsf"
      }
    },
    {
      "cell_type": "code",
      "execution_count": 1,
      "metadata": {
        "id": "T61lqlVkXt8B"
      },
      "outputs": [],
      "source": [
        "# https://www.analyticsvidhya.com/blog/2021/12/stock-market-analysis-with-pandas-datareader-and-plotly-for-beginners/\n",
        "# https://pandas-datareader.readthedocs.io/en/latest/remote_data.html\n"
      ]
    },
    {
      "cell_type": "code",
      "source": [
        "# plot stocks"
      ],
      "metadata": {
        "id": "R3iSgIbhdUFi"
      },
      "execution_count": 2,
      "outputs": []
    },
    {
      "cell_type": "code",
      "source": [
        "# plot close"
      ],
      "metadata": {
        "id": "BYJy0ogfdf3n"
      },
      "execution_count": 3,
      "outputs": []
    },
    {
      "cell_type": "code",
      "source": [
        "# plot line close"
      ],
      "metadata": {
        "id": "BKUWUEC4d5DR"
      },
      "execution_count": 4,
      "outputs": []
    },
    {
      "cell_type": "code",
      "source": [
        "# plot microsoft candles"
      ],
      "metadata": {
        "id": "buHOjVZ8eFuu"
      },
      "execution_count": 5,
      "outputs": []
    },
    {
      "cell_type": "code",
      "source": [
        "# https://ourworldindata.org/covid-deaths\n",
        "\n"
      ],
      "metadata": {
        "id": "Ef2oEwK1EQ0V"
      },
      "execution_count": 6,
      "outputs": []
    },
    {
      "cell_type": "code",
      "source": [
        "# covid info"
      ],
      "metadata": {
        "id": "1HBRREjTHhPl"
      },
      "execution_count": 7,
      "outputs": []
    },
    {
      "cell_type": "code",
      "source": [
        "# covid by continent"
      ],
      "metadata": {
        "id": "ZRWpH4tSJAEU"
      },
      "execution_count": 8,
      "outputs": []
    },
    {
      "cell_type": "code",
      "source": [
        "# covid by continent and location"
      ],
      "metadata": {
        "id": "ciJqHIqJR_s_"
      },
      "execution_count": 9,
      "outputs": []
    },
    {
      "cell_type": "code",
      "source": [
        "# get covid for the US\n"
      ],
      "metadata": {
        "id": "Umh972e-IC4y"
      },
      "execution_count": 10,
      "outputs": []
    },
    {
      "cell_type": "code",
      "source": [
        "# subplots"
      ],
      "metadata": {
        "id": "XGiusuBsMUw4"
      },
      "execution_count": 11,
      "outputs": []
    },
    {
      "cell_type": "code",
      "source": [
        "# new cases per million"
      ],
      "metadata": {
        "id": "2UE_yO8dPdfk"
      },
      "execution_count": 12,
      "outputs": []
    },
    {
      "cell_type": "markdown",
      "source": [
        "### Rolling Mean\n"
      ],
      "metadata": {
        "id": "JPN9MRetcw39"
      }
    },
    {
      "cell_type": "code",
      "source": [
        "# rolling mean"
      ],
      "metadata": {
        "id": "deOINLQmdMIx"
      },
      "execution_count": 13,
      "outputs": []
    },
    {
      "cell_type": "code",
      "source": [
        "# what year had the biggest increase in mean value from the previous year's mean?\n"
      ],
      "metadata": {
        "id": "rKkp71ECDvLo"
      },
      "execution_count": 14,
      "outputs": []
    },
    {
      "cell_type": "code",
      "source": [
        "# compare zoom and covid\n"
      ],
      "metadata": {
        "id": "2yiYXTWVGntO"
      },
      "execution_count": 15,
      "outputs": []
    },
    {
      "cell_type": "markdown",
      "source": [
        "## Time Series with Statsmodels\n",
        "\n",
        "* Trends\n",
        "  * Upward\n",
        "  * Horizontal / Stationary\n",
        "  * Downward\n",
        "* Seasons\n",
        "* Cycles\n",
        "\n",
        "Sources\n",
        "\n",
        "* https://www.statsmodels.org/stable/tsa.html"
      ],
      "metadata": {
        "id": "fmclflY-ZThV"
      }
    },
    {
      "cell_type": "markdown",
      "source": [
        "### Hodrick-Prescott Filter\n",
        "\n",
        "* Filters out trends and cycles\n",
        "* lambda default is 1600 (quarterly)\n",
        "* lambda 6.25 (yearly)\n",
        "* lambda 129,600 (monthly)"
      ],
      "metadata": {
        "id": "3-Dw3IqYgtjo"
      }
    },
    {
      "cell_type": "code",
      "source": [
        "# create macro data"
      ],
      "metadata": {
        "id": "O5sLhBMLE2Nx"
      },
      "execution_count": 16,
      "outputs": []
    },
    {
      "cell_type": "code",
      "source": [
        "# compare trend and realgdp"
      ],
      "metadata": {
        "id": "m8bmX2hEG74d"
      },
      "execution_count": 17,
      "outputs": []
    },
    {
      "cell_type": "code",
      "source": [
        "# trend and gdp 2000 - 2009"
      ],
      "metadata": {
        "id": "j8hT0qC-H5E9"
      },
      "execution_count": 18,
      "outputs": []
    },
    {
      "cell_type": "markdown",
      "source": [
        "### ETS\n",
        "\n",
        "https://www.statsmodels.org/dev/examples/notebooks/generated/ets.html\n",
        "\n",
        "* Error\n",
        "* Trend\n",
        "* Seasonalality\n",
        "* Exponential Smoothing\n",
        "* Trend Methods\n",
        "* ETS Decomposition\n",
        "* Additive Models: Used when trend is linear and/or seasonal variations are constant\n",
        "* Multiplicative: Used when trend is non linear (exponential) and/or seasonality varies proportional to the level of the series"
      ],
      "metadata": {
        "id": "aqBVHYmRZYOX"
      }
    },
    {
      "cell_type": "code",
      "source": [
        "# hodrick-prescott (hp) example\n",
        "# jbrownlee, https://machinelearningmastery.com/, https://github.com/jbrownlee/Datasets/tree/master\n",
        "# url = 'https://raw.githubusercontent.com/jbrownlee/Datasets/master/airline-passengers.csv'\n"
      ],
      "metadata": {
        "id": "UTbY7NdYg1gw"
      },
      "execution_count": 19,
      "outputs": []
    },
    {
      "cell_type": "code",
      "source": [
        "# ets decomposition\n"
      ],
      "metadata": {
        "id": "tZQUsdYvkLnm"
      },
      "execution_count": 20,
      "outputs": []
    },
    {
      "cell_type": "markdown",
      "source": [
        "### EWMA\n",
        "\n",
        "https://towardsdatascience.com/time-series-analysis-with-statsmodels-12309890539a\n",
        "\n",
        "* Exponential Weighted Moving Average\n",
        "* Same window for SMA vs EWMA allows weighting more relevant data"
      ],
      "metadata": {
        "id": "GQxnuGnfZvdu"
      }
    },
    {
      "cell_type": "code",
      "source": [
        "# add 6 and 12 month sma and annual ewma\n"
      ],
      "metadata": {
        "id": "-9nx_vYwKe_v"
      },
      "execution_count": 21,
      "outputs": []
    },
    {
      "cell_type": "markdown",
      "source": [
        "### Holt-Winters\n",
        "\n",
        "* EWMA has just one smoothing factor and doesn't account for trend, seasonality, etc.\n",
        "* HW offers three smoothing factors for level, trend, and season ($\\alpha, \\beta, \\gamma$) and can adjust for divisions per cycle (L)\n",
        "* Offers Single, Double (Holt and Trend), and Triple (Holt-Winters and Seasonality) Exponential Smoothing\n",
        "\n",
        "Source\n",
        "* https://www.statsmodels.org/dev/tsa.html#exponential-smoothing"
      ],
      "metadata": {
        "id": "mhOEyzteaOm3"
      }
    },
    {
      "cell_type": "code",
      "source": [
        "# single, double, triple smoothing"
      ],
      "metadata": {
        "id": "euGGtCcrvsN_"
      },
      "execution_count": 22,
      "outputs": []
    },
    {
      "cell_type": "code",
      "source": [
        "# selected plots"
      ],
      "metadata": {
        "id": "2cJFTDjgNxSF"
      },
      "execution_count": 23,
      "outputs": []
    },
    {
      "cell_type": "code",
      "source": [
        "# zoom in first two years\n"
      ],
      "metadata": {
        "id": "eFMBCrrhOrCv"
      },
      "execution_count": 24,
      "outputs": []
    },
    {
      "cell_type": "code",
      "source": [
        "# airline tail"
      ],
      "metadata": {
        "id": "b6HIZeYEPXfU"
      },
      "execution_count": 25,
      "outputs": []
    },
    {
      "cell_type": "code",
      "source": [
        "# zoom in last two years\n"
      ],
      "metadata": {
        "id": "u8GG-j9iOzs_"
      },
      "execution_count": 26,
      "outputs": []
    },
    {
      "cell_type": "markdown",
      "source": [
        "### Stationary Time Series"
      ],
      "metadata": {
        "id": "vzE-B_qhfbDU"
      }
    },
    {
      "cell_type": "code",
      "source": [
        "# births, any trends?\n"
      ],
      "metadata": {
        "id": "1WHineuCvniP"
      },
      "execution_count": 27,
      "outputs": []
    },
    {
      "cell_type": "markdown",
      "source": [
        "## Forecasting"
      ],
      "metadata": {
        "id": "0lu2STItP2p9"
      }
    },
    {
      "cell_type": "markdown",
      "source": [
        "### Holt-Winters"
      ],
      "metadata": {
        "id": "42H-KNcAw36a"
      }
    },
    {
      "cell_type": "code",
      "source": [
        "# airline_url = 'https://raw.githubusercontent.com/jbrownlee/Datasets/master/airline-passengers.csv'"
      ],
      "metadata": {
        "id": "mjxEzqQiw8ZS"
      },
      "execution_count": 28,
      "outputs": []
    },
    {
      "cell_type": "code",
      "source": [
        "# train, test, predictions"
      ],
      "metadata": {
        "id": "5xuaBVX7xvAo"
      },
      "execution_count": 29,
      "outputs": []
    },
    {
      "cell_type": "markdown",
      "source": [
        "### Evaluation\n",
        "\n",
        "* Accuracy, precision, and recall aren't applicable for time series\n",
        "* MSE: Bigger residuals are emphasized\n",
        "* RMSE: Expresses MSE in the same units of the data compared to the standard deviation and leans towards the mean\\\n",
        "* Compare RMSE to the average values (no 100% answer)\n",
        "* MAE (Mean Absolute Error): Forecasts lean to the median\n",
        "* AIC/BIC: Metrics to compare models, the lower the better at forecasting\n",
        "* Impossible to evaluate future data"
      ],
      "metadata": {
        "id": "e44qgfAj3Ac7"
      }
    },
    {
      "cell_type": "code",
      "source": [
        "# evaluation\n"
      ],
      "metadata": {
        "id": "NxsAYiax2J2W"
      },
      "execution_count": 30,
      "outputs": []
    },
    {
      "cell_type": "markdown",
      "source": [
        "### ACF\n",
        "\n",
        "https://medium.com/@krzysztofdrelczuk/acf-autocorrelation-function-simple-explanation-with-python-example-492484c32711\n",
        "\n",
        "* Positive Correlation: as x goes up, y goes up\n",
        "* Negative Correlation: as x goes up,\n",
        "y goes down\n",
        "* AutoCorrelation: degree of correlation between successive time intervals (correlation with itself)\n",
        "* Lag: measured by k periods apart"
      ],
      "metadata": {
        "id": "gv6xUO5eae8H"
      }
    },
    {
      "cell_type": "code",
      "source": [
        "# get data\n"
      ],
      "metadata": {
        "id": "WMF4XhHKl4gS"
      },
      "execution_count": 31,
      "outputs": []
    },
    {
      "cell_type": "code",
      "source": [
        "# airline autocorrelation"
      ],
      "metadata": {
        "id": "FTCClxVGoTTM"
      },
      "execution_count": 32,
      "outputs": []
    },
    {
      "cell_type": "code",
      "source": [
        "# births autocorrelation"
      ],
      "metadata": {
        "id": "GxMeb7mdoVd1"
      },
      "execution_count": 33,
      "outputs": []
    },
    {
      "cell_type": "code",
      "source": [
        "# plot_acf airlines"
      ],
      "metadata": {
        "id": "HBpWZi-WpWv7"
      },
      "execution_count": 34,
      "outputs": []
    },
    {
      "cell_type": "markdown",
      "source": [
        "* Lagged x units (shifts) define the correlation with the original time\n",
        "* This plot indicates non-stationary data, as there are a large number of lags before ACF values drop off\n",
        "* Gradual decline shows bigger shifts have less correlation\n",
        "* Shifts that form peaks express an increase in correlation and is related to seasonality\n",
        "* Describes autocorrelation between two observations over time"
      ],
      "metadata": {
        "id": "QECiskUZqBc4"
      }
    },
    {
      "cell_type": "code",
      "source": [
        "# acf plots birth default lags = 40\n"
      ],
      "metadata": {
        "id": "lLQuMH6toeBu"
      },
      "execution_count": 35,
      "outputs": []
    },
    {
      "cell_type": "markdown",
      "source": [
        "This ACF plot shows stationary data, with lags on the horizontal axis and correlations on the vertical axis. The first value $y_0$ is always 1. A sharp dropoff indicates AR"
      ],
      "metadata": {
        "id": "CI5zQZxupw_O"
      }
    },
    {
      "cell_type": "markdown",
      "source": [
        "### PACF\n",
        "\n",
        "* Partial AutoCorrelation: provides the partial correlation of a stationary time series with its own lagged values, regresses the values of the time series at all shorter lags\n",
        "* Helps visualize residuals over time vs real values\n",
        "* It contrasts with the autocorrelation function, which does not control for other lags\n",
        "* Describes relationship between observation and its lag\n",
        "* Statsmodel.tsa.statespace.tools.diff: performs a differencing operation along the zero(th) axis"
      ],
      "metadata": {
        "id": "ESZFnRlAahLh"
      }
    },
    {
      "cell_type": "code",
      "source": [
        "# plot births pacf"
      ],
      "metadata": {
        "id": "cF1yMe_XrhpG"
      },
      "execution_count": 36,
      "outputs": []
    },
    {
      "cell_type": "markdown",
      "source": [
        "Partial autocorrelation works best with stationary data. To make airline stationary we use the diff command."
      ],
      "metadata": {
        "id": "fEqe64BkvsVF"
      }
    },
    {
      "cell_type": "code",
      "source": [
        "# airline diff"
      ],
      "metadata": {
        "id": "9twIkjN9wVHZ"
      },
      "execution_count": 37,
      "outputs": []
    },
    {
      "cell_type": "code",
      "source": [
        "# plot pacf with diff k = 1\n"
      ],
      "metadata": {
        "id": "kL-8Ce5FxF48"
      },
      "execution_count": 38,
      "outputs": []
    },
    {
      "cell_type": "markdown",
      "source": [
        "### Autoregression\n",
        "\n",
        "* Uses observations from previous time steps as input to a regression equation to predict the value at the next time step"
      ],
      "metadata": {
        "id": "z_WdGbvs0CE6"
      }
    },
    {
      "cell_type": "code",
      "source": [
        "# https://fred.stlouisfed.org/series/POPTHM\n",
        "# pop_url = 'https://raw.githubusercontent.com/gitmystuff/Datasets/main/uspopulation.csv'\n"
      ],
      "metadata": {
        "id": "kUujE0lYz0Zg"
      },
      "execution_count": 39,
      "outputs": []
    },
    {
      "cell_type": "code",
      "source": [
        "# train and predict\n",
        "\n"
      ],
      "metadata": {
        "id": "eXTpbVZZDlL6"
      },
      "execution_count": 40,
      "outputs": []
    },
    {
      "cell_type": "code",
      "source": [
        "# forecast\n"
      ],
      "metadata": {
        "id": "cfIq2puAH2f8"
      },
      "execution_count": 41,
      "outputs": []
    },
    {
      "cell_type": "markdown",
      "source": [
        "### Tests\n",
        "\n",
        "* Dickey-Fuller for stationality\n",
        "* Granger Causality for one time series forecasting another\n",
        "* Seasonality"
      ],
      "metadata": {
        "id": "A5m9i_et0EaK"
      }
    },
    {
      "cell_type": "code",
      "source": [
        "# refresh datasets\n"
      ],
      "metadata": {
        "id": "GWhKnuRhzg0c"
      },
      "execution_count": 42,
      "outputs": []
    },
    {
      "cell_type": "code",
      "source": [
        "# Stationality Test with Dickey-Fuller\n"
      ],
      "metadata": {
        "id": "OonVokF7LkAV"
      },
      "execution_count": 43,
      "outputs": []
    },
    {
      "cell_type": "markdown",
      "source": [
        "The p-value is 0.99, which shows the lack of evidence to reject the null hypothesis, we fail to reject the null hypothesis. Our dataset is not stationary."
      ],
      "metadata": {
        "id": "mBYwIT8vMnHW"
      }
    },
    {
      "cell_type": "code",
      "source": [
        "# Stationality Test with Dickey-Fuller\n"
      ],
      "metadata": {
        "id": "sn3y5SkINILU"
      },
      "execution_count": 44,
      "outputs": []
    },
    {
      "cell_type": "markdown",
      "source": [
        "The p-value is 0.000052, which shows strong evidence to reject the null hypothesis. Our dataset is stationary."
      ],
      "metadata": {
        "id": "36BLruXxNRyF"
      }
    },
    {
      "cell_type": "code",
      "source": [
        "# refresh macro data\n"
      ],
      "metadata": {
        "id": "oIvLuD40Okmk"
      },
      "execution_count": 45,
      "outputs": []
    },
    {
      "cell_type": "code",
      "source": [
        "# plot data"
      ],
      "metadata": {
        "id": "WYAXwkLLQrOi"
      },
      "execution_count": 46,
      "outputs": []
    },
    {
      "cell_type": "code",
      "source": [
        "# granger causality"
      ],
      "metadata": {
        "id": "t7_VvMR2PgZm"
      },
      "execution_count": 47,
      "outputs": []
    },
    {
      "cell_type": "code",
      "source": [
        "# granger causality"
      ],
      "metadata": {
        "id": "j-W94_oHP68X"
      },
      "execution_count": 48,
      "outputs": []
    },
    {
      "cell_type": "code",
      "source": [
        "# Seasonality\n"
      ],
      "metadata": {
        "id": "Y6Rvwz6aR-Zu"
      },
      "execution_count": 49,
      "outputs": []
    },
    {
      "cell_type": "code",
      "source": [
        "# monthly\n"
      ],
      "metadata": {
        "id": "8kxQ_tnvSJyB"
      },
      "execution_count": 50,
      "outputs": []
    },
    {
      "cell_type": "code",
      "source": [
        "# quarterly\n"
      ],
      "metadata": {
        "id": "nr35LAfuSNc-"
      },
      "execution_count": 51,
      "outputs": []
    },
    {
      "cell_type": "markdown",
      "source": [
        "### ARIMA\n",
        "\n",
        "* Auto Regressive Integrated Moving Average\n",
        "* Auto Regressive (p)\n",
        "* Moving Average (q)\n",
        "* Integrated (d - degree of differencing)\n",
        "* Orderings\n",
        "* Works well with univariate data, not so much with feature rich data (like stocks)\n",
        "\n",
        "AR, MA, ARMA, and ARIMA\n",
        "\n",
        "* PACF helps with AR model\n",
        "* Sharp drop off suggests AR(-k) model\n",
        "* ACF helps with MA model\n",
        "* Gradual decline suggests MA model"
      ],
      "metadata": {
        "id": "VtVy4cSEbMvo"
      }
    },
    {
      "cell_type": "code",
      "source": [
        "# refresh data\n"
      ],
      "metadata": {
        "id": "izjF73SVH9bc"
      },
      "execution_count": 52,
      "outputs": []
    },
    {
      "cell_type": "code",
      "source": [
        "# pyramid arima uses grid search to determin pdq (uses AIC)\n",
        "# !pip install pmdarima"
      ],
      "metadata": {
        "id": "FHUiUzvCIork"
      },
      "execution_count": 53,
      "outputs": []
    },
    {
      "cell_type": "code",
      "source": [
        "# pmdarima help"
      ],
      "metadata": {
        "id": "Aic2-Kn_IbI8"
      },
      "execution_count": 54,
      "outputs": []
    },
    {
      "cell_type": "code",
      "source": [
        "# auto arima births"
      ],
      "metadata": {
        "id": "I0lDoh2EI1B5"
      },
      "execution_count": 55,
      "outputs": []
    },
    {
      "cell_type": "code",
      "source": [
        "# train and forecast\n"
      ],
      "metadata": {
        "id": "1xO4Zz12NTiF"
      },
      "execution_count": 56,
      "outputs": []
    },
    {
      "cell_type": "code",
      "source": [
        "# make predictions\n"
      ],
      "metadata": {
        "id": "6nUHebVsR6Oo"
      },
      "execution_count": 57,
      "outputs": []
    },
    {
      "cell_type": "markdown",
      "source": [
        "This makes sense because our dataset has no trend or seasonal component"
      ],
      "metadata": {
        "id": "HoDv23K9S7yu"
      }
    },
    {
      "cell_type": "markdown",
      "source": [
        "### SARIMA(X)\n",
        "\n",
        "* ARIMA with Seasoning\n",
        "* Uses PDQ as well as pdq\n",
        "* X refers to the support of exogenous (independent) variables"
      ],
      "metadata": {
        "id": "PnfLukaubO1b"
      }
    },
    {
      "cell_type": "code",
      "source": [
        "# arima airlines"
      ],
      "metadata": {
        "id": "kSusw7RwKl6M"
      },
      "execution_count": 58,
      "outputs": []
    },
    {
      "cell_type": "code",
      "source": [
        "# stepwise example"
      ],
      "metadata": {
        "id": "ZhM-eu7CLRNT"
      },
      "execution_count": 59,
      "outputs": []
    },
    {
      "cell_type": "code",
      "source": [
        "# use PDQ as well as pdq to train\n"
      ],
      "metadata": {
        "id": "HncsJ-aQN8Ij"
      },
      "execution_count": 60,
      "outputs": []
    },
    {
      "cell_type": "code",
      "source": [
        "# make predictions\n"
      ],
      "metadata": {
        "id": "iLm8RCoUTs41"
      },
      "execution_count": 61,
      "outputs": []
    },
    {
      "cell_type": "markdown",
      "source": [
        "### Other Topics\n",
        "\n",
        "* Vector AutoRegression (Moving Average) VAR(MA)\n",
        "* Prophet Library (Facebook)"
      ],
      "metadata": {
        "id": "iCXCXl1JEdPv"
      }
    },
    {
      "cell_type": "markdown",
      "source": [
        "## Finance Terms\n",
        "\n",
        "Notes from Jose Portilla's Python for Financial Analysis and Algorithmic Trading\n",
        "\n",
        "* Adjusted Close\n",
        "* Moving Average / Rolling Mean\n",
        "* Bollinger Bands\n",
        "* Cumulative Return\n",
        "* Daily Return\n",
        "* Cumulative Daily Return\n",
        "* Time Series\n",
        "* Error - Trends - Seasonality (ETS) Models\n",
        "* ETS Decomposition\n",
        "* Exponentially Weighted Moving Averages (EWMA)\n",
        "* Auto Regressive Integrated Moving Average (ARIMA)\n",
        "* ACF - Autocorrelation Model\n",
        "* PACF - Partial Autocorrelation Model\n",
        "* Volatility\n",
        "* Portfolio Allocation\n",
        "* Sharpe Ratio\n",
        "* Exchange Traded Funds (ETF)\n",
        "* Mutual Funds\n",
        "* Hedge Funds\n",
        "* High Frequency Trading\n",
        "* Selling Short and Long\n",
        "* Capital Asset Pricing Model\n",
        "* Stock Splits and Dividends\n",
        "* Survivorship Bias\n",
        "* Efficient Market Hypothesis\n",
        "* Pairs Trading"
      ],
      "metadata": {
        "id": "uYAvdd34cVsA"
      }
    }
  ]
}