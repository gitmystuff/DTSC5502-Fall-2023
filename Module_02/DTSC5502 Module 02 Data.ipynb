{
 "cells": [
  {
   "cell_type": "markdown",
   "id": "41c9a5d1",
   "metadata": {},
   "source": [
    "# Data"
   ]
  },
  {
   "cell_type": "markdown",
   "id": "87f8c9ee",
   "metadata": {},
   "source": [
    "## Data Science Process\n",
    "\n",
    "https://www.springboard.com/blog/data-science/data-science-process/ "
   ]
  },
  {
   "cell_type": "markdown",
   "id": "74b4d70e",
   "metadata": {},
   "source": [
    "## Data\n",
    "\n",
    "According to Wikipedia (2023):\n",
    "\n",
    ">  In the pursuit of knowledge, data is a collection of discrete values that convey information, describing quantity, quality, fact, statistics, other basic units of meaning, or simply sequences of symbols that may be further interpreted. A datum is an individual value in a collection of data. Data is usually organized into structures such as tables that provide additional context and meaning, and which may themselves be used as data in larger structures (para 1).\n",
    " \n",
    "Data. (2023, January 23). In *Wikipedia*. https://en.wikipedia.org/wiki/Data "
   ]
  },
  {
   "cell_type": "markdown",
   "id": "d6c5ec9f",
   "metadata": {},
   "source": [
    "Data are dumb. Data needs context. \n",
    "\n",
    "* GPA, used a lot but doesn't count the difficulty of the courses taken\n",
    "\n",
    "* It was found that workers who take frequent breaks died earlier than others\n",
    "    * That's because they were out smoking"
   ]
  },
  {
   "cell_type": "markdown",
   "id": "0047de15",
   "metadata": {},
   "source": [
    "## Data Science, Data Analysis, and Data Mining\n",
    "\n",
    "* Data science is generally concerned with scientific applications, while data mining is used in market analysis, financial analysis, fraud detection, etc.\n",
    "* https://magnimindacademy.com/blog/7-awesome-difference-between-data-science-vs-data-mining/\n",
    "* Data mining is a process of extracting useful information, patterns, and trends from huge databases. Data science refers to the process of obtaining valuable insights from structured and unstructured data by using various tools and methods. Data mining is a technique. Data science is a field\n",
    "* https://www.javatpoint.com/data-mining-vs-data-science\n",
    "* **Check the following image out!**\n",
    "* https://uwex.wisconsin.edu/wp-content/uploads/2020/10/294-ds-vs-da_Page_1-2048x798-1.png "
   ]
  },
  {
   "cell_type": "markdown",
   "id": "09455b39",
   "metadata": {},
   "source": [
    "### Seaborn\n",
    "\n",
    "* https://seaborn.pydata.org/generated/seaborn.load_dataset.html"
   ]
  },
  {
   "cell_type": "code",
   "execution_count": 1,
   "id": "efa93820",
   "metadata": {},
   "outputs": [],
   "source": [
    "# get list of seaborn datasets\n"
   ]
  },
  {
   "cell_type": "markdown",
   "id": "651e577d",
   "metadata": {},
   "source": [
    "### Data Needs to be Reliable\n",
    "\n",
    "* Consistency of a measure (whether the results can be reproduced under the same conditions)\n",
    "\n",
    "### Data Needs to be Valid\n",
    "\n",
    "* The accuracy of a measure (whether the results really do represent what they are supposed to measure)\n",
    "\n",
    "### Precision vs Accuracy\n",
    "\n",
    "* Precision: exactitude of describing something\n",
    "* Accuracy: how consistent to the truth\n",
    "* Where's the library? About 1.6 miles from here (precise but not to useful) vs. go down this street a couple of blocks till you pass a bank. It'll be to the right. If you pass the fire station, you've gone too far\n",
    "\n",
    "### Statistical Models for Data\n",
    "\n",
    "* A formal representation of relationships between variables we use to describe or explain something"
   ]
  },
  {
   "cell_type": "code",
   "execution_count": 2,
   "id": "aedf5438",
   "metadata": {},
   "outputs": [],
   "source": [
    "# loading seaborn dataset\n"
   ]
  },
  {
   "cell_type": "code",
   "execution_count": 3,
   "id": "d9b24424",
   "metadata": {},
   "outputs": [],
   "source": [
    "# information on the dataset\n"
   ]
  },
  {
   "cell_type": "markdown",
   "id": "ba618b59",
   "metadata": {},
   "source": [
    "## Data Types\n",
    "\n",
    "* Numerical: has measurement\n",
    "    * Discrete: can be counted (number of people in a class)\n",
    "    * Continuous: described as a measurement (height, weight, temps), usually rounded off\n",
    "* Categorical: some type of group, category, that can be represented by a number (female: 1, male: 2) but have no mathematical meaning\n",
    "* Nominal: named or labeled (31 flavors)\n",
    "* Ordinal: ordered or scaled (first, second, etc, very happy, happy, meh, sad, very sad)\n",
    "* Cardinal: the number of things, counted (1, 2, 3, 4, 6, etc)\n",
    "* Interval: ordered numbers with equal distances (50 degrees, 60 degrees, etc)\n",
    "* Ratio: has a true zero (can't have height of -2 inches, distance between 1 and 2 is the same as 3 and 4 and 4 is twice 2)"
   ]
  },
  {
   "cell_type": "markdown",
   "id": "0edbb01a",
   "metadata": {},
   "source": [
    "## Data Starts with a Question\n",
    "\n",
    "According to Wikipedia (2022):\n",
    "\n",
    ">  A research question is a question that a research project sets out to answer'. Choosing a research question is an essential element of both quantitative and qualitative research. Investigation will **require data collection and analysis**, and the methodology for this will vary widely. Good research questions seek to improve knowledge on an important topic, and are usually narrow and specific (para 1).\n",
    "\n",
    "Research Question. (2022, January 24). In *Wikipedia*. https://en.wikipedia.org/wiki/Research_question"
   ]
  },
  {
   "cell_type": "markdown",
   "id": "259d6803",
   "metadata": {},
   "source": [
    "### Parameter vs Statistic \n",
    "\n",
    "* https://www.statisticshowto.com/statistics-basics/how-to-tell-the-difference-between-a-statistic-and-a-parameter/ \n",
    "* Parameter describes population, statistic describes sample\n",
    "\n",
    "### Statistical Inference\n",
    "\n",
    "According to Wikipedia (2022):\n",
    "\n",
    ">  the process of using data analysis to infer properties of an underlying distribution of probability (para 1).\n",
    "\n",
    "Statistical Inference. (2022, January 24). In *Wikipedia*. https://en.wikipedia.org/wiki/Statistical_inference.\n",
    "\n",
    "https://www.analyticsvidhya.com/blog/2022/03/an-overview-of-data-collection-data-sources-and-data-mining/\n",
    "\n",
    "* Mean and standard deviation of a sample should be similar to the mean and standard deviation of the population\n",
    "* Mean: where most of the observations lie with a distribution variance that is symmetrical\n",
    "* Standard Deviation: a way to measure how far observations are from the mean, on the x axis, in terms similar to the data it represents"
   ]
  },
  {
   "cell_type": "markdown",
   "id": "6e50a1e9",
   "metadata": {},
   "source": [
    "## Data Considerations\n",
    "\n",
    "\n",
    "### Garbage In Garbage Out (GIGO)\n",
    "\n",
    "GI of GIGO\n",
    "\n",
    "* Wrong\n",
    "* Too Different\n",
    "* Too Similar\n",
    "* Missing\n",
    "* Terrible statistical assertions result from good statistical methods applied to bad samples\n",
    "\n",
    "### Data Perspectives\n",
    "\n",
    "https://www.bbc.com/news/science-environment-17357560\n",
    "\n",
    "* The study possibly suggests a connection between stress and chemical responses\n",
    "* The real winner is the data, a group of satiated males and a group of frustrated males\n",
    "* Data are to statistics what the front line is to the quarterback\n",
    "\n",
    "### Data Needs Three Things\n",
    "\n",
    "1. The sample is representative of the population\n",
    "    * One way to achieve this is through simple random sample\n",
    "    * Larger the better\n",
    "    * A representative sample opens possibilities from a hundred years of statistical methods\n",
    "    * Getting a good sample isn't easy\n",
    "2. Data should show comparison\n",
    "    * Differences between groups\n",
    "    * Does a method improve something\n",
    "    * In the movie Caddyshack, golf related comedy, Chevy Chase is asked how his scores compare with others\n",
    "        * I really don't keep score\n",
    "        * But then how do you compare with others\n",
    "        * By height\n",
    "3. Sometimes we collect data just because\n",
    "    * Like a crime scene, collect all the clues you can find\n",
    "    * Data are like clues"
   ]
  },
  {
   "cell_type": "markdown",
   "id": "26b9c5e9",
   "metadata": {},
   "source": [
    "### Sklearn\n",
    "\n",
    "* https://scikit-learn.org/stable/datasets.html"
   ]
  },
  {
   "cell_type": "code",
   "execution_count": 4,
   "id": "9c7432ed",
   "metadata": {},
   "outputs": [],
   "source": [
    "# fetch california housing\n"
   ]
  },
  {
   "cell_type": "code",
   "execution_count": 5,
   "id": "ac34ae7c",
   "metadata": {},
   "outputs": [],
   "source": [
    "# get keys\n"
   ]
  },
  {
   "cell_type": "code",
   "execution_count": 6,
   "id": "d24db2ea",
   "metadata": {},
   "outputs": [],
   "source": [
    "# get description\n"
   ]
  },
  {
   "cell_type": "code",
   "execution_count": 7,
   "id": "66be9b06",
   "metadata": {},
   "outputs": [],
   "source": [
    "# print feature names and target names\n",
    " \n",
    "\n",
    "# create housing dataframe\n"
   ]
  },
  {
   "cell_type": "code",
   "execution_count": 8,
   "id": "9dc5505b",
   "metadata": {},
   "outputs": [],
   "source": [
    "# alternative method\n"
   ]
  },
  {
   "cell_type": "markdown",
   "id": "fc8f5538",
   "metadata": {},
   "source": [
    "### Online Repositories\n",
    "* https://archive.ics.uci.edu/ml/datasets/Auto+MPG\n",
    "* http://lib.stat.cmu.edu/datasets/\n",
    "* https://www.kaggle.com/datasets"
   ]
  },
  {
   "cell_type": "markdown",
   "id": "6459825a",
   "metadata": {},
   "source": [
    "## Uploading Datasets (.csv files) to Colab\n",
    "\n",
    "* Click on the File icon\n",
    "* Click on the Upload to session storage icon\n",
    "* Find your csv file and upload\n",
    "* Click through warning"
   ]
  },
  {
   "cell_type": "markdown",
   "id": "64377d9a",
   "metadata": {},
   "source": [
    "### Toggling Comments"
   ]
  },
  {
   "cell_type": "code",
   "execution_count": 9,
   "id": "a3810d25",
   "metadata": {},
   "outputs": [],
   "source": [
    "# import pandas as pd\n",
    "\n",
    "# advertising = pd.read_csv('Advertising.csv')\n",
    "# advertising.head()"
   ]
  },
  {
   "cell_type": "markdown",
   "id": "64672690",
   "metadata": {},
   "source": [
    "### Explore Interactive Table in Colab\n",
    "\n",
    "* https://colab.research.google.com/notebooks/data_table.ipynb"
   ]
  },
  {
   "cell_type": "code",
   "execution_count": 10,
   "id": "a84366b8",
   "metadata": {},
   "outputs": [],
   "source": [
    "# advertising = pd.read_csv('https://raw.githubusercontent.com/gitmystuff/Datasets/main/Advertising.csv', usecols=['TV', 'radio', 'newspaper', 'sales'])\n",
    "# advertising.head()"
   ]
  },
  {
   "cell_type": "markdown",
   "id": "9dc32dfd",
   "metadata": {},
   "source": [
    "### Simulated Data"
   ]
  },
  {
   "cell_type": "code",
   "execution_count": 11,
   "id": "f8b27b15",
   "metadata": {},
   "outputs": [],
   "source": [
    "# example with make_regression\n"
   ]
  },
  {
   "cell_type": "markdown",
   "id": "cbf36cc1",
   "metadata": {},
   "source": [
    "### Codebooks\n",
    "\n",
    "https://www.kaggle.com/rhuebner/human-resources-data-set<br />\n",
    "https://rpubs.com/rhuebner/hrd_cb_v14"
   ]
  },
  {
   "cell_type": "markdown",
   "id": "4c814fd2",
   "metadata": {},
   "source": [
    "### Data Resource List\n",
    "\n",
    "* https://vincentarelbundock.github.io/Rdatasets/articles/data.html\n",
    "* pip install rdatasets\n",
    "* from rdatasets import data as rdata\n",
    "* https://www.statsmodels.org/devel/datasets/index.html \n",
    "* https://en.wikipedia.org/wiki/List_of_datasets_for_machine-learning_research\n",
    "* https://archive.ics.uci.edu/ml/datasets/Auto+MPG\n",
    "* http://lib.stat.cmu.edu/datasets/\n",
    "* https://www.kaggle.com/datasets\n",
    "* https://registry.opendata.aws/\n",
    "* https://dataportals.org/\n",
    "* https://opendatamonitor.eu/frontend/web/index.php?r=dashboard%2Findex\n",
    "* https://data.nasdaq.com/\n",
    "* http://radar.oreilly.com/2011/01/journalist-data-tools.html\n",
    "* https://www.reddit.com/r/datasets/\n",
    "* https://stat.ethz.ch/R-manual/R-devel/library/datasets/html/00Index.html\n",
    "* https://github.com/vincentarelbundock/Rdatasets \n",
    "* https://data.world/ \n",
    "* https://data.gov/\n",
    "* https://registry.opendata.aws/\n",
    "* https://cloud.google.com/datasets\n",
    "* https://cloud.google.com/bigquery/public-data\n",
    "* https://services.google.com/fh/files/misc/public_datasets_one_pager.pdf"
   ]
  },
  {
   "cell_type": "markdown",
   "id": "f368cf3f",
   "metadata": {},
   "source": [
    "### Explore UCI\n",
    "\n",
    "* https://archive.ics.uci.edu/ \n",
    "* https://www.datacamp.com/tutorial/pandas-read-csv"
   ]
  },
  {
   "cell_type": "code",
   "execution_count": 12,
   "id": "4e7e911d",
   "metadata": {},
   "outputs": [],
   "source": [
    "# sep data example; https://archive.ics.uci.edu/ml/datasets/auto+mpg \n",
    "# cars = pd.read_csv('https://raw.githubusercontent.com/gitmystuff/Datasets/main/auto-mpg.data', sep = '\\s+', header = None)\n",
    "# cars.columns=['mpg', 'cylinders', 'displacement', 'horsepower', 'weight', 'acceleration', 'model year', 'origin',  'car name']\n",
    "# cars.head()"
   ]
  },
  {
   "cell_type": "markdown",
   "id": "b0804d2d",
   "metadata": {},
   "source": [
    "### Excel: Text to Column\n",
    "\n",
    "* Download the student.zip file from https://archive.ics.uci.edu/dataset/320/student+performance\n",
    "* Unzip to an appropriate folder, and open student-mat.csv in Excel (HINT: Right-click on student-mat.csv and choose Open with Excel) \n",
    "* Save this file as student-mat.xlsx \n",
    "* Use Text to Column to format data\n",
    "* HINT: select all the data in the first column before using Text to Column and then use the semicolon as the Delimiter"
   ]
  },
  {
   "cell_type": "markdown",
   "id": "3d6fca2d",
   "metadata": {},
   "source": [
    "## Sampling\n",
    "\n",
    "According to Wikipedia (2022):\n",
    "\n",
    ">  Sampling is the selection of a subset (a statistical sample) of individuals from within a statistical population [similar elements] to estimate characteristics of the whole population (para 1).\n",
    "\n",
    "Sampling. (2022, January 24). In *Wikipedia*.https://en.wikipedia.org/wiki/Sampling_(statistics)\n",
    "\n",
    "### Probabilistic Sampling\n",
    "\n",
    "* Simple random sampling: https://www.statisticshowto.com/probability-and-statistics/statistics-definitions/simple-random-sample/\n",
    "* Systematic sampling: https://www.open.edu/openlearncreate/mod/oucontent/view.php?id=233&section=1.5.2\n",
    "* Stratified sampling: https://www.geeksforgeeks.org/stratified-sampling-in-pandas/\n",
    "* Clustering: https://www.voxco.com/blog/stratified-sampling-vs-cluster-sampling/\n",
    "\n",
    "### Non-Probabilistic Sampling Methods\n",
    "\n",
    "https://www.analyticsvidhya.com/blog/2019/09/data-scientists-guide-8-types-of-sampling-techniques/\n",
    "* Convenience sampling\n",
    "* Quota sampling\n",
    "* Snowball sampling\n",
    "\n",
    "### Avoid Getting Biased Data\n",
    "\n",
    "* Selection bias: How did a politician win?\n",
    "* Publication bias: Video games do not cause colon cancer vs. spending a lot of time playing video games do have a lower incidence of colon cancer\n",
    "* Recall bias: Memory is selective\n",
    "* Survivorship bias: Students did better on tests each of their four years (those that didn't do so well dropped out)"
   ]
  }
 ],
 "metadata": {
  "kernelspec": {
   "display_name": "Python 3 (ipykernel)",
   "language": "python",
   "name": "python3"
  },
  "language_info": {
   "codemirror_mode": {
    "name": "ipython",
    "version": 3
   },
   "file_extension": ".py",
   "mimetype": "text/x-python",
   "name": "python",
   "nbconvert_exporter": "python",
   "pygments_lexer": "ipython3",
   "version": "3.9.7"
  }
 },
 "nbformat": 4,
 "nbformat_minor": 5
}
