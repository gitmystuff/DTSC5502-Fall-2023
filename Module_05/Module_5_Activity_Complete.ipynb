{
  "nbformat": 4,
  "nbformat_minor": 0,
  "metadata": {
    "colab": {
      "provenance": [],
      "toc_visible": true,
      "authorship_tag": "ABX9TyPPIMb5rcTRAhczh4UjjKGX",
      "include_colab_link": true
    },
    "kernelspec": {
      "name": "python3",
      "display_name": "Python 3"
    },
    "language_info": {
      "name": "python"
    }
  },
  "cells": [
    {
      "cell_type": "markdown",
      "metadata": {
        "id": "view-in-github",
        "colab_type": "text"
      },
      "source": [
        "<a href=\"https://colab.research.google.com/github/gitmystuff/DTSC5502/blob/main/Module_05/Module_5_Activity_Complete.ipynb\" target=\"_parent\"><img src=\"https://colab.research.google.com/assets/colab-badge.svg\" alt=\"Open In Colab\"/></a>"
      ]
    },
    {
      "cell_type": "markdown",
      "source": [
        "# Feature and Target Names\n",
        "<table align=\"left\">\n",
        "    <tr>\n",
        "        <th>Independent Variables (X)</th>\n",
        "        <th>Dependent Variable (y)</th>\n",
        "    <tr>\n",
        "    <tr>\n",
        "        <td>Features</td>\n",
        "        <td>Target</td>\n",
        "    </tr>\n",
        "    <tr>\n",
        "        <td>Regressors</td>\n",
        "        <td>Regressand</td>\n",
        "    </tr>\n",
        "    <tr>\n",
        "        <td>Predictors</td>\n",
        "        <td>Response</td>\n",
        "    </tr>\n",
        "    <tr>\n",
        "        <td>Observations</td>\n",
        "        <td>Outcomes</td>\n",
        "    </tr>\n",
        "    <tr>\n",
        "        <td>Explanatory</td>\n",
        "        <td>Labels</td>\n",
        "    </tr>\n",
        "    <tr>\n",
        "        <td>Input</td>\n",
        "        <td>Output</td>\n",
        "    </tr>\n",
        "    <tr>\n",
        "        <td>exog (exogenous)</td>\n",
        "        <td>endog (endogenous)</td>\n",
        "    </tr>\n",
        "</table>"
      ],
      "metadata": {
        "id": "JpPf_vaLSRWo"
      }
    },
    {
      "cell_type": "markdown",
      "source": [
        "# Variance\n",
        "\n",
        "* Features with higher variance are generally more explanatory\n",
        "* Variance measures the amount of information in the data set\n",
        "* Mathematically, the variance is the measure of the variability in the data\n",
        "* Suppose you are doing a study on the languages in India and only have 3 languages in your sample (the Indian constitution recognizes 22 official languages)\n",
        "* Variance is the spread of continuous data about the mean and variance in categorical data is proportional\n",
        "* Spread and Quartiles (Percentiles)"
      ],
      "metadata": {
        "id": "tqaY0foKRosv"
      }
    },
    {
      "cell_type": "markdown",
      "source": [
        "# Covariance and Correlation Notebook"
      ],
      "metadata": {
        "id": "Va5qdb65ahuy"
      }
    },
    {
      "cell_type": "markdown",
      "source": [
        "# Correlation Plotly T\n",
        "\n",
        "# Correlation Plotly R"
      ],
      "metadata": {
        "id": "KoCW3l99xX_g"
      }
    },
    {
      "cell_type": "markdown",
      "source": [
        "# Correlation Notebook"
      ],
      "metadata": {
        "id": "QFB9S3Ipl8eu"
      }
    },
    {
      "cell_type": "markdown",
      "source": [
        "# Exploratory Data Analysis Notebook"
      ],
      "metadata": {
        "id": "rPQRa5JmiD_7"
      }
    },
    {
      "cell_type": "markdown",
      "source": [
        "# Data Visualization Notebook"
      ],
      "metadata": {
        "id": "hcNuVKAPiIEV"
      }
    },
    {
      "cell_type": "markdown",
      "source": [
        "# In-Class Work\n",
        "\n",
        "Find a chart and explain what it represents. Below are a couple of links that contain chart examples. Many of these charts already contain the data so all you need to do is copy and paste the code / example, but you must explain what the chart is trying to convey. You may also choose a chart of your own choosing. In the Canvas discussion called Module 5: In-Class Activity, submit the name of the chart you have chosen. Search the page to make sure you are not choosing a chart someone else has chosen. After you have created or reproduced your chart / graph in Colab, make it shareable and reply to your original post in Module 5: In-Class Activity posting your shared Colab link with an explanation of what the chart / graph is trying to convey.\n",
        "\n",
        "* https://matplotlib.org/stable/gallery/index.html\n",
        "* http://seaborn.pydata.org/examples/\n",
        "* https://pandas.pydata.org/pandas-docs/stable/user_guide/visualization.html\n"
      ],
      "metadata": {
        "id": "QJmfvMeGmDZl"
      }
    }
  ]
}