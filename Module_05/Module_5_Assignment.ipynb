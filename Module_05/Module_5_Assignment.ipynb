{
  "cells": [
    {
      "cell_type": "markdown",
      "metadata": {
        "id": "view-in-github",
        "colab_type": "text"
      },
      "source": [
        "<a href=\"https://colab.research.google.com/github/gitmystuff/DTSC5502/blob/main/Module_05/Module_5_Assignment.ipynb\" target=\"_parent\"><img src=\"https://colab.research.google.com/assets/colab-badge.svg\" alt=\"Open In Colab\"/></a>"
      ]
    },
    {
      "cell_type": "markdown",
      "id": "5cfa4ccd",
      "metadata": {
        "id": "5cfa4ccd"
      },
      "source": [
        "# Module 5 Assignment"
      ]
    },
    {
      "cell_type": "markdown",
      "id": "3063e49f",
      "metadata": {
        "id": "3063e49f"
      },
      "source": [
        "You've been asked to clean and explore a dataset containing racers in Mario Kart\n",
        "\n",
        "Enter your student id, in the next cell, when asked and then run the next two cells. The second cell will create the dataset you will be working on. If you run the second cell again, it will generate a new dataset so be aware. Do not edit the next two cells."
      ]
    },
    {
      "cell_type": "markdown",
      "id": "d4793462",
      "metadata": {
        "id": "d4793462"
      },
      "source": [
        "### Generate Seed and Data"
      ]
    },
    {
      "cell_type": "code",
      "execution_count": null,
      "id": "0d58ad25",
      "metadata": {
        "id": "0d58ad25"
      },
      "outputs": [],
      "source": [
        "# create seed, run this cell as is, do not edit\n",
        "import random\n",
        "\n",
        "# provide your student id as stud_id, replace 123456789 with your student id (automatice 0 if not replaced with your student id)\n",
        "stud_id = 123456789\n",
        "my_seed = random.seed(stud_id)"
      ]
    },
    {
      "cell_type": "code",
      "execution_count": null,
      "id": "617bce76",
      "metadata": {
        "id": "617bce76"
      },
      "outputs": [],
      "source": [
        "# run this cell as is, do not edit\n",
        "import pandas as pd\n",
        "import numpy as np\n",
        "import re\n",
        "import random\n",
        "from sklearn.datasets import make_regression\n",
        "\n",
        "def make_null(r, w):\n",
        "    rtn = random.choices([np.nan, r], weights=[w, 100-w])\n",
        "    return re.sub(r\"[\\[\\]]\",'', str(rtn))\n",
        "\n",
        "variables = ['Mario', 'Luigi', 'Peach', 'Daisy', 'Yoshi', 'Toad', 'Koopa Troopa', \\\n",
        "             'Bowser', 'Donkey Kong', 'Wario, Waluigi', 'Bowser Jr.', 'Diddy Kong', \\\n",
        "             'Toadette', 'Rosalina', 'Lakitu', 'Metal Mario', 'Petey', 'King Boo', \\\n",
        "             'Mii', 'Pauline', 'Lubba', 'Boom Boom', 'Boomette', 'Captain Syrup', \\\n",
        "             'Dixie Kong', 'E. Gadd', 'Kamek', 'Hammer Bro']\n",
        "\n",
        "X, y = make_regression(n_samples=100, n_features=10, n_informative=6)\n",
        "random.shuffle(variables)\n",
        "cols = variables[:10]\n",
        "df = pd.DataFrame(data=X, columns=cols)\n",
        "df[cols[0]] = round(df[cols[0]], 4)\n",
        "df[variables[10]] = 0.03\n",
        "df[variables[11]] = 0.07\n",
        "df[variables[12]] = df[variables[0]]\n",
        "df[variables[13]] = df[cols[1]]\n",
        "df[variables[10]] = df[variables[10]].apply(make_null, args=(2,))\n",
        "df[variables[13]] = df[variables[13]].apply(make_null, args=(5,))\n",
        "df[variables[14]] = random.sample(range(100, 1000), k=100)\n",
        "df[variables[15]] = random.sample(range(1000, 10000), k=100)\n",
        "\n",
        "df[variables[7]] = df[variables[7]].apply(lambda r: abs(r) if (r < -0.02) else r)\n",
        "df[variables[8]] = df[variables[8]].apply(lambda r: abs(r)*-1 if (r > 0.01) else r)\n",
        "df[variables[9]] = df[variables[9]].apply(lambda r: abs(r) if (r < -0.01) else r)\n",
        "df[variables[7]] = df[variables[7]].apply(make_null, args=(7,))\n",
        "df[variables[8]] = df[variables[8]].apply(make_null, args=(8,))\n",
        "df[variables[9]] = df[variables[9]].apply(make_null, args=(9,))\n",
        "\n",
        "cats = [random.choice(['Mushroom Gorge', 'Choco Mountain']) for i in range(100)]\n",
        "df[variables[16]] = cats\n",
        "cats = [random.choice(['Green Shell', 'Red Shell']) for i in range(100)]\n",
        "df[variables[17]] = cats\n",
        "cats = [random.choice(['Fast', 'Medium', 'Slow']) for i in range(100)]\n",
        "df[variables[18]] = cats\n",
        "cats = [random.choice(['Bike', 'Buggy', 'Runner', 'Wiggler', 'Sprinter']) for i in range(100)]\n",
        "df[variables[19]] = cats\n",
        "\n",
        "df = df[np.random.default_rng(seed=my_seed).permutation(df.columns.values)]\n",
        "\n",
        "df['Mario Kart'] = y\n",
        "\n",
        "dupes = df.loc[0:5]\n",
        "df = pd.concat([df, dupes], axis=0)\n",
        "df = df.sample(frac=1).reset_index(drop=True)\n",
        "\n",
        "df.to_csv('Mario Kart.csv', index=False) # comment this out after successful run so that you don't overwrite your data"
      ]
    },
    {
      "cell_type": "markdown",
      "id": "a290e0a9",
      "metadata": {
        "id": "a290e0a9"
      },
      "source": [
        "### Data Prep"
      ]
    },
    {
      "cell_type": "code",
      "execution_count": null,
      "id": "806b9dca",
      "metadata": {
        "id": "806b9dca"
      },
      "outputs": [],
      "source": [
        "# create dataframe from Mario Kart.csv\n"
      ]
    },
    {
      "cell_type": "code",
      "execution_count": null,
      "id": "e0f5c6be",
      "metadata": {
        "id": "e0f5c6be"
      },
      "outputs": [],
      "source": [
        "# df info\n"
      ]
    },
    {
      "cell_type": "code",
      "execution_count": null,
      "id": "5a8bdc28",
      "metadata": {
        "id": "5a8bdc28"
      },
      "outputs": [],
      "source": [
        "# identify constants\n"
      ]
    },
    {
      "cell_type": "code",
      "source": [
        "# drop constant variables\n"
      ],
      "metadata": {
        "id": "i0lW-eFGYb50"
      },
      "id": "i0lW-eFGYb50",
      "execution_count": null,
      "outputs": []
    },
    {
      "cell_type": "code",
      "execution_count": null,
      "id": "c1f6efe4",
      "metadata": {
        "id": "c1f6efe4"
      },
      "outputs": [],
      "source": [
        "# identify quasi constant values (sometimes these may be boolean variables)\n"
      ]
    },
    {
      "cell_type": "code",
      "execution_count": null,
      "id": "93d98949",
      "metadata": {
        "id": "93d98949"
      },
      "outputs": [],
      "source": [
        "# drop the quasi constant variables with low cardinality where one label shows up 98% more times than other labels\n"
      ]
    },
    {
      "cell_type": "code",
      "execution_count": null,
      "id": "f65de913",
      "metadata": {
        "id": "f65de913"
      },
      "outputs": [],
      "source": [
        "# identify duplicate rows\n"
      ]
    },
    {
      "cell_type": "code",
      "execution_count": null,
      "id": "6ac5c315",
      "metadata": {
        "id": "6ac5c315"
      },
      "outputs": [],
      "source": [
        "# drop duplicate rows and print shape\n"
      ]
    },
    {
      "cell_type": "code",
      "execution_count": null,
      "id": "f0276f85",
      "metadata": {
        "id": "f0276f85"
      },
      "outputs": [],
      "source": [
        "# check of duplicate columns\n"
      ]
    },
    {
      "cell_type": "markdown",
      "id": "1c2b124f",
      "metadata": {
        "id": "1c2b124f"
      },
      "source": [
        "### Imputation\n",
        "\n",
        "Use histograms to view the shape of your numerical variables\n",
        "* Use mean to replace missing data for normal (ish) variables\n",
        "* Use median to replace missing data for skewed variables\n",
        "* Use mode to replace missing data for categorical variables"
      ]
    },
    {
      "cell_type": "code",
      "execution_count": null,
      "id": "ad3159bc",
      "metadata": {
        "id": "ad3159bc"
      },
      "outputs": [],
      "source": [
        "# plot histograms\n"
      ]
    },
    {
      "cell_type": "code",
      "source": [
        "# show null values for each variable\n",
        "# df.isnull().sum()"
      ],
      "metadata": {
        "id": "nbAh7UBkHSvc"
      },
      "id": "nbAh7UBkHSvc",
      "execution_count": null,
      "outputs": []
    },
    {
      "cell_type": "code",
      "execution_count": null,
      "id": "a5b1afe7",
      "metadata": {
        "id": "a5b1afe7"
      },
      "outputs": [],
      "source": [
        "# replace missing data with appropriate mean, median, or mode and confirm with isnull().sum()\n"
      ]
    },
    {
      "cell_type": "markdown",
      "id": "5ccc846c",
      "metadata": {
        "id": "5ccc846c"
      },
      "source": [
        "### Exploratory Data Analysis"
      ]
    },
    {
      "cell_type": "code",
      "execution_count": null,
      "id": "2e7eb542",
      "metadata": {
        "id": "2e7eb542"
      },
      "outputs": [],
      "source": [
        "# describe df\n"
      ]
    },
    {
      "cell_type": "markdown",
      "id": "c714a85a",
      "metadata": {
        "id": "c714a85a"
      },
      "source": [
        "Using df.describe(), identify the two variables with max values greater than 100. These variables have scales that are quite different than the other variables and must be scaled so that they share the same scale as the other variables. Standardize one feature and Normalize the other feature."
      ]
    },
    {
      "cell_type": "code",
      "execution_count": null,
      "id": "706b99d1",
      "metadata": {
        "id": "706b99d1"
      },
      "outputs": [],
      "source": [
        "# standardize feature\n"
      ]
    },
    {
      "cell_type": "code",
      "execution_count": null,
      "id": "3174eccc",
      "metadata": {
        "id": "3174eccc"
      },
      "outputs": [],
      "source": [
        "# normalize feature\n"
      ]
    },
    {
      "cell_type": "code",
      "execution_count": null,
      "id": "6e5e7709",
      "metadata": {
        "id": "6e5e7709"
      },
      "outputs": [],
      "source": [
        "# describe data again to verify transformations\n"
      ]
    },
    {
      "cell_type": "code",
      "execution_count": null,
      "id": "2ff24208",
      "metadata": {
        "id": "2ff24208"
      },
      "outputs": [],
      "source": [
        "# df.info()\n"
      ]
    },
    {
      "cell_type": "code",
      "source": [
        "# check for outliers\n"
      ],
      "metadata": {
        "id": "oivaPpAeJviD"
      },
      "id": "oivaPpAeJviD",
      "execution_count": null,
      "outputs": []
    },
    {
      "cell_type": "code",
      "execution_count": null,
      "id": "7f5e001b",
      "metadata": {
        "id": "7f5e001b"
      },
      "outputs": [],
      "source": [
        "# vif test\n"
      ]
    },
    {
      "cell_type": "code",
      "execution_count": null,
      "id": "cee47114",
      "metadata": {
        "id": "cee47114"
      },
      "outputs": [],
      "source": [
        "# delete one of the variables out of the pair(s) that show multicollinearity\n"
      ]
    },
    {
      "cell_type": "code",
      "execution_count": null,
      "id": "709a87a6",
      "metadata": {
        "id": "709a87a6"
      },
      "outputs": [],
      "source": [
        "# verify you no longer have multicollinearity\n"
      ]
    },
    {
      "cell_type": "code",
      "execution_count": null,
      "id": "21c4564c",
      "metadata": {
        "id": "21c4564c"
      },
      "outputs": [],
      "source": [
        "# show correlation heat map for variables\n"
      ]
    },
    {
      "cell_type": "code",
      "execution_count": null,
      "id": "ec3fd3a9",
      "metadata": {
        "id": "ec3fd3a9"
      },
      "outputs": [],
      "source": [
        "# correlation with target\n",
        "# change rot=45 to rot=90 (text rotation)\n"
      ]
    },
    {
      "cell_type": "markdown",
      "id": "d4eac697",
      "metadata": {
        "id": "d4eac697"
      },
      "source": [
        "List four variables that show the most correlation with the Mario Kart\n",
        "\n",
        "_Type your answer here_"
      ]
    }
  ],
  "metadata": {
    "kernelspec": {
      "display_name": "Python 3 (ipykernel)",
      "language": "python",
      "name": "python3"
    },
    "language_info": {
      "codemirror_mode": {
        "name": "ipython",
        "version": 3
      },
      "file_extension": ".py",
      "mimetype": "text/x-python",
      "name": "python",
      "nbconvert_exporter": "python",
      "pygments_lexer": "ipython3",
      "version": "3.9.7"
    },
    "colab": {
      "provenance": [],
      "include_colab_link": true
    }
  },
  "nbformat": 4,
  "nbformat_minor": 5
}